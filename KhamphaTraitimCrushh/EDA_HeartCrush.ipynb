{
 "cells": [
  {
   "cell_type": "markdown",
   "metadata": {},
   "source": [
    "## Bài tập Vận dụng: How to biết Crush thích bạn không?\n",
    "### 1. Đọc file hear_Crush.csv bằng thư viện pandas\n",
    "### 2. Hãy vẽ biểu đồ line chart thể hiện nhịp tim của Crush theo từng mốc thời gian tại tháng 8. Đưa ra Insight từ biểu đồ.\n",
    "### 3. Hãy vẽ biểu đồ Boxplot thể hiện nhịp tim của Crush vào các thứ trong tuần. Nêu ra các outlier, khoảng tứ phân vị, median của ngày **Chủ nhật**. Đưa ra Insights từ biểu đồ."
   ]
  }
 ],
 "metadata": {
  "language_info": {
   "name": "python"
  }
 },
 "nbformat": 4,
 "nbformat_minor": 2
}
